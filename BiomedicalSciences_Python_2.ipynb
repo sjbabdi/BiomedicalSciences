{
  "nbformat": 4,
  "nbformat_minor": 0,
  "metadata": {
    "colab": {
      "provenance": [],
      "authorship_tag": "ABX9TyNuIaW/Hhuqwswd/M6QjGY+",
      "include_colab_link": true
    },
    "kernelspec": {
      "name": "python3",
      "display_name": "Python 3"
    },
    "language_info": {
      "name": "python"
    }
  },
  "cells": [
    {
      "cell_type": "markdown",
      "metadata": {
        "id": "view-in-github",
        "colab_type": "text"
      },
      "source": [
        "<a href=\"https://colab.research.google.com/github/sjbabdi/BiomedicalSciences/blob/main/BiomedicalSciences_Python_2.ipynb\" target=\"_parent\"><img src=\"https://colab.research.google.com/assets/colab-badge.svg\" alt=\"Open In Colab\"/></a>"
      ]
    },
    {
      "cell_type": "markdown",
      "source": [
        "# BIOMEDICAL SCIENCES - Python practicals 2: Intro to Programming\n",
        "\n",
        "---\n",
        "\n",
        "In this pratical we learn how to use FOR loops and IF statements, two essential concepts in programming. \n",
        "\n",
        "# 1. FOR LOOPS\n",
        "\n",
        "## What are FOR loops?\n",
        "\n",
        "FOR loops are useful in many circumstances. The purpose of a FOR loop is to **repeat a set of instructions**. It is useful to have the ability to tell Python to repeat an instruction without having to repeat the actual code.\n",
        "\n",
        "For example, if we want Python to do some operation 100 times, we could either write down the code for that operation 100 times in succession, or simply use a FOR loop and write the operation only once.\n",
        "\n",
        "Let us do a simple example. The following command tells Python to display a variable 10 times:\n",
        "\n"
      ],
      "metadata": {
        "id": "kBHLvueWzVKF"
      }
    },
    {
      "cell_type": "code",
      "source": [
        "a = 3\n",
        "for i in range(10):\n",
        "  print(a)"
      ],
      "metadata": {
        "colab": {
          "base_uri": "https://localhost:8080/"
        },
        "id": "1wrotb44zyYZ",
        "outputId": "2338ee09-6fb3-4f4f-fa29-8fa5c0ed9838"
      },
      "execution_count": 2,
      "outputs": [
        {
          "output_type": "stream",
          "name": "stdout",
          "text": [
            "3\n",
            "3\n",
            "3\n",
            "3\n",
            "3\n",
            "3\n",
            "3\n",
            "3\n",
            "3\n",
            "3\n"
          ]
        }
      ]
    },
    {
      "cell_type": "markdown",
      "source": [
        "In the above, we first define a variable `a` to which we assign the value `3`. Then we have a FOR loop that displays the variable `a` with the command `print`. Let us examine the syntax of this FOR loop:\n",
        "\n",
        "In the Python language, the FOR loop always begins with the word `for`. We use indentation to indicate the code that is inside the loop. The loop ends when the indentation ends.\n",
        "\n",
        "Just after the word `for`, we have an iterator called `i` that will take 10 values ranging from 0 to 9. This means that the FOR loop will run 10 times, each time the value of `i` is incremented by 1, starting at 0 and ending at 9.\n",
        "\n",
        "We can actually display the value of `i` inside the loop to check that is what is happening (also, the iterator doesn't need to be called `i` so let us use, say, `j` instead):\n",
        "\n"
      ],
      "metadata": {
        "id": "SGGGHicT0QNc"
      }
    },
    {
      "cell_type": "code",
      "source": [
        "for j in range(10):\n",
        "  print(j)"
      ],
      "metadata": {
        "colab": {
          "base_uri": "https://localhost:8080/"
        },
        "id": "J7nH6g0k1FBV",
        "outputId": "7073fb23-6343-428f-e962-1c3d1f196a42"
      },
      "execution_count": 3,
      "outputs": [
        {
          "output_type": "stream",
          "name": "stdout",
          "text": [
            "0\n",
            "1\n",
            "2\n",
            "3\n",
            "4\n",
            "5\n",
            "6\n",
            "7\n",
            "8\n",
            "9\n"
          ]
        }
      ]
    },
    {
      "cell_type": "markdown",
      "source": [
        "Now what we have done so far are not very useful things to do with loops, they were just meant to introduce you to the syntax.\n",
        "\n",
        "A more useful use of a FOR loop is to use the iterator to access a given entry of an array or a list. Let us do an example where we access entries in a list of words, e.g. calendar months. First define a variable with all the calendar months:\n",
        "\n"
      ],
      "metadata": {
        "id": "OUxuqqoW1Izg"
      }
    },
    {
      "cell_type": "code",
      "source": [
        "months = ['January','February','March','April','May','June','July','August','September','October','November','December']"
      ],
      "metadata": {
        "id": "RqIYYBpL1WTk"
      },
      "execution_count": 4,
      "outputs": []
    },
    {
      "cell_type": "markdown",
      "source": [
        "Now we will use a FOR loop to extract the name of 'every other month' starting with January:\n",
        "\n"
      ],
      "metadata": {
        "id": "6xNuBLbm1eK9"
      }
    },
    {
      "cell_type": "code",
      "source": [
        "for i in range(0,12,2):\n",
        "  print(months[i])\n",
        "  "
      ],
      "metadata": {
        "colab": {
          "base_uri": "https://localhost:8080/"
        },
        "id": "pixXh1F21iPD",
        "outputId": "5011bb2b-c763-48a2-8180-382a88fa573a"
      },
      "execution_count": 5,
      "outputs": [
        {
          "output_type": "stream",
          "name": "stdout",
          "text": [
            "January\n",
            "March\n",
            "May\n",
            "July\n",
            "September\n",
            "November\n"
          ]
        }
      ]
    },
    {
      "cell_type": "markdown",
      "source": [
        "Let us understand the syntax above. In the first line of the FOR loop, we have an iterator that starts at 0, ends at 11, with a step of 2. Then inside the loop, we use the iterator value to extract the relevant calendar month.\n",
        "\n",
        "> Why does it say `range(0,12)` but it actually goes from 0 to 11?\n",
        "\n",
        "\n"
      ],
      "metadata": {
        "id": "Br11t6Sj1pTq"
      }
    },
    {
      "cell_type": "markdown",
      "source": [
        "Let us do another where we start with December all the way down to January in steps of 3:\n",
        "\n"
      ],
      "metadata": {
        "id": "R1u70YgY10Lh"
      }
    },
    {
      "cell_type": "code",
      "source": [
        "for i in range(11,0,-3):\n",
        "  print(months[i])"
      ],
      "metadata": {
        "colab": {
          "base_uri": "https://localhost:8080/"
        },
        "id": "f1JAYXOy2GdQ",
        "outputId": "158c07a4-11e7-4c44-bc24-39f63891a779"
      },
      "execution_count": 6,
      "outputs": [
        {
          "output_type": "stream",
          "name": "stdout",
          "text": [
            "December\n",
            "September\n",
            "June\n",
            "March\n"
          ]
        }
      ]
    },
    {
      "cell_type": "markdown",
      "source": [
        "So to summarise FOR loops so far: we can use a FOR loop to repeat an operation. The iterator takes values during these repeats; and we can use the iterator inside the FOR loop to access elements of a variable.\n",
        "\n",
        "---\n",
        "\n",
        "## Using FOR loops to do maths\n",
        "\n",
        "Now let us perform actual mathematical operations inside FOR loops.\n",
        "A simple example is to write a FOR loop that calculates the sum of numbers from 1 to 100. First, how can we do this without FOR loops?\n",
        "\n",
        "A silly way would be to type out all of the numbers and add them up:\n",
        "\n",
        "\n"
      ],
      "metadata": {
        "id": "78nZZX5R2L6I"
      }
    },
    {
      "cell_type": "code",
      "source": [
        "  total_silly=1+2+3+4+5+6+7+8+9+10+11+12+13+14+15+16+17+18+19+20+21+22+23+24+25+26+27+28+29+30+31+32+33+34+35+36+37+38+39+40+41+42+43+44+45+46+47+48+49+50+51+52+53+54+55+56+57+58+59+60+61+62+63+64+65+66+67+68+69+70+71+72+73+74+75+76+77+78+79+80+81+82+83+84+85+86+87+88+89+90+91+92+93+94+95+96+97+98+99+100\n",
        "  print(total_silly)\n"
      ],
      "metadata": {
        "colab": {
          "base_uri": "https://localhost:8080/"
        },
        "id": "jScOJXyC2QO-",
        "outputId": "3e500ba2-2f7b-4bd3-a339-51a25c4d9eb7"
      },
      "execution_count": 8,
      "outputs": [
        {
          "output_type": "stream",
          "name": "stdout",
          "text": [
            "5050\n"
          ]
        }
      ]
    },
    {
      "cell_type": "markdown",
      "source": [
        "Let's see if we can do something better with a FOR loop. \n",
        "\n",
        "We start by defining a variable that will store the value of the summation. Let us call it `total`, and at the start initialize it to 0. Then within each iteration of the loop we increase this variable by the value of the iterator.\n",
        "\n",
        "Here is a 'pseudo' code for what we will be doing:\n",
        "\n",
        "1. Set the value of `total` to be equal to 0.\n",
        "2. Iterate over a variable `i` taking values from 1 to 100:\n",
        " - at each iteration, increase the value of `total` by `i`\n",
        " - store the result in the variable `total`\n",
        "3. End the iterations and display the variable `total`.\n",
        "\n",
        "And now for the actual code:\n"
      ],
      "metadata": {
        "id": "aK9xi1752kJy"
      }
    },
    {
      "cell_type": "code",
      "source": [
        "total = 0\n",
        "for i in range(1,101):\n",
        "  total = total + i\n",
        "print(total)"
      ],
      "metadata": {
        "colab": {
          "base_uri": "https://localhost:8080/"
        },
        "id": "5ptpcbvq2q2h",
        "outputId": "d3aab35a-4226-4675-8a7d-11d0c1362d5f"
      },
      "execution_count": 9,
      "outputs": [
        {
          "output_type": "stream",
          "name": "stdout",
          "text": [
            "5050\n"
          ]
        }
      ]
    },
    {
      "cell_type": "markdown",
      "source": [
        "> Note: we need to use `range(1,101)` if we want `i` to reach 100"
      ],
      "metadata": {
        "id": "Dt_PIua63NQO"
      }
    },
    {
      "cell_type": "markdown",
      "source": [
        "Compare `total` to `total_silly`. Same output, but much more sensible code.\n",
        "\n",
        "\n",
        "> **Exercise** : Use a FOR loop to calculate the sum of all even numbers from 2 to 2022."
      ],
      "metadata": {
        "id": "Kc7kgLb83Uij"
      }
    },
    {
      "cell_type": "code",
      "source": [
        "# YOUR CODE HERE"
      ],
      "metadata": {
        "id": "UW2b9DO63cYm"
      },
      "execution_count": 10,
      "outputs": []
    },
    {
      "cell_type": "code",
      "source": [
        "#@title Possible solution\n",
        "# We will use a FOR loop with an iterator that starts at 2 and ends at 2022 with steps of 2:\n",
        "total = 0\n",
        "for i in range(2,2023,2):\n",
        "  total = total + i\n",
        "print(total)\n",
        "\n",
        "# Another possible solution that uses numpy:\n",
        "from numpy import arange\n",
        "total = arange(2,2023,2).sum()\n",
        "print(total)"
      ],
      "metadata": {
        "id": "uwCAzDMu3kL6",
        "cellView": "form"
      },
      "execution_count": null,
      "outputs": []
    },
    {
      "cell_type": "markdown",
      "source": [
        "---\n",
        "\n",
        "Using an analogous approach, we will now write a program that calculates $N!$ (factorial of $N$, or $1\\times2\\times3\\times4\\times...\\timesN$) for an integer number $N$. Let's say for $N=10$.\n",
        "\n",
        "First let us assign a value for $N$:\n"
      ],
      "metadata": {
        "id": "_6w_wpE43_IY"
      }
    },
    {
      "cell_type": "code",
      "source": [
        "N = 10"
      ],
      "metadata": {
        "id": "bFN59X9T4Z6L"
      },
      "execution_count": 13,
      "outputs": []
    },
    {
      "cell_type": "markdown",
      "source": [
        "Now we will write a for loop that calculates $N!$. For that, we first define a variable `F` and assign it the value 1, then we use a loop:\n",
        "\n"
      ],
      "metadata": {
        "id": "XopuY4bD4eHo"
      }
    },
    {
      "cell_type": "code",
      "source": [
        "F = 1\n",
        "for i in range(1,11):\n",
        "  F = F*i\n",
        "print(F)"
      ],
      "metadata": {
        "colab": {
          "base_uri": "https://localhost:8080/"
        },
        "id": "lmqjR_ib4iwM",
        "outputId": "ec579109-7772-4408-8855-7fa1d03b5cff"
      },
      "execution_count": 14,
      "outputs": [
        {
          "output_type": "stream",
          "name": "stdout",
          "text": [
            "3628800\n"
          ]
        }
      ]
    },
    {
      "cell_type": "markdown",
      "source": [
        "In each iteration we multiply the current value of `F` with `i`, and assign that result to the variable `F`.\n",
        "\n",
        "Try with different values for $N$. You should see that the result grows very quickly as $N$ gets bigger and bigger.\n",
        "\n",
        "> **Excercise:** Calculate the value of $N!$ for all $N$ between 1 and 5 and make a plot of $N!$ as a function of $N$.\n"
      ],
      "metadata": {
        "id": "RrigUYp14oZV"
      }
    },
    {
      "cell_type": "code",
      "source": [
        "# YOUR CODE HERE"
      ],
      "metadata": {
        "id": "NJQGQsAa4yd5"
      },
      "execution_count": 15,
      "outputs": []
    },
    {
      "cell_type": "code",
      "source": [],
      "metadata": {
        "id": "lNDbBWFO47yN"
      },
      "execution_count": null,
      "outputs": []
    }
  ]
}