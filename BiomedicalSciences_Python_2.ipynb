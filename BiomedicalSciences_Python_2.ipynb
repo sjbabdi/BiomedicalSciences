{
  "nbformat": 4,
  "nbformat_minor": 0,
  "metadata": {
    "colab": {
      "provenance": [],
      "toc_visible": true,
      "authorship_tag": "ABX9TyOyqDW2sNor44hihSTxKL8M",
      "include_colab_link": true
    },
    "kernelspec": {
      "name": "python3",
      "display_name": "Python 3"
    },
    "language_info": {
      "name": "python"
    }
  },
  "cells": [
    {
      "cell_type": "markdown",
      "metadata": {
        "id": "view-in-github",
        "colab_type": "text"
      },
      "source": [
        "<a href=\"https://colab.research.google.com/github/sjbabdi/BiomedicalSciences/blob/main/BiomedicalSciences_Python_2.ipynb\" target=\"_parent\"><img src=\"https://colab.research.google.com/assets/colab-badge.svg\" alt=\"Open In Colab\"/></a>"
      ]
    },
    {
      "cell_type": "markdown",
      "source": [
        "# BIOMEDICAL SCIENCES - Python practicals 2: Intro to Programming\n",
        "\n",
        "---\n",
        "\n",
        "In this pratical we learn how to use FOR loops and IF statements, two essential concepts in programming. \n",
        "\n",
        "\n",
        "\n"
      ],
      "metadata": {
        "id": "kBHLvueWzVKF"
      }
    },
    {
      "cell_type": "code",
      "source": [
        "# Usual imports\n",
        "import numpy as np\n",
        "import matplotlib.pyplot as plt"
      ],
      "metadata": {
        "id": "vRL6QeMw22Of"
      },
      "execution_count": null,
      "outputs": []
    },
    {
      "cell_type": "markdown",
      "source": [
        "# 1. FOR LOOPS\n",
        "\n",
        "## What are FOR loops?\n",
        "\n",
        "FOR loops are useful in many circumstances. The purpose of a FOR loop is to **repeat a set of instructions**. It is useful to have the ability to tell Python to repeat an instruction without having to repeat the actual code.\n",
        "\n",
        "For example, if we want Python to do some operation 100 times, we could either write down the code for that operation 100 times in succession, or simply use a FOR loop and write the operation only once.\n",
        "\n",
        "Let us do a simple example. The following command tells Python to display a variable 10 times:"
      ],
      "metadata": {
        "id": "W9C9QlBk2LZL"
      }
    },
    {
      "cell_type": "code",
      "source": [
        "a = 3\n",
        "for i in range(10):\n",
        "  print(a)"
      ],
      "metadata": {
        "id": "1wrotb44zyYZ"
      },
      "execution_count": null,
      "outputs": []
    },
    {
      "cell_type": "markdown",
      "source": [
        "In the above, we first define a variable `a` to which we assign the value `3`. Then we have a FOR loop that displays the variable `a` with the command `print`. Let us examine the syntax of this FOR loop:\n",
        "\n",
        "In the Python language, the FOR loop always begins with the word `for`. We use indentation to indicate the code that is inside the loop. The loop ends when the indentation ends.\n",
        "\n",
        "Just after the word `for`, we have an iterator called `i` that will take 10 values ranging from 0 to 9. This means that the FOR loop will run 10 times, each time the value of `i` is incremented by 1, starting at 0 and ending at 9.\n",
        "\n",
        "We can actually display the value of `i` inside the loop to check that is what is happening (also, the iterator doesn't need to be called `i` so let us use, say, `j` instead):\n",
        "\n"
      ],
      "metadata": {
        "id": "SGGGHicT0QNc"
      }
    },
    {
      "cell_type": "code",
      "source": [
        "for j in range(10):\n",
        "  print(j)"
      ],
      "metadata": {
        "id": "J7nH6g0k1FBV"
      },
      "execution_count": null,
      "outputs": []
    },
    {
      "cell_type": "markdown",
      "source": [
        "Now what we have done so far are not very useful things to do with loops, they were just meant to introduce you to the syntax.\n",
        "\n",
        "A more useful use of a FOR loop is to use the iterator to access a given entry of an array or a list. Let us do an example where we access entries in a list of words, e.g. calendar months. First define a variable with all the calendar months:\n",
        "\n"
      ],
      "metadata": {
        "id": "OUxuqqoW1Izg"
      }
    },
    {
      "cell_type": "code",
      "source": [
        "months = ['January','February','March','April','May','June','July','August','September','October','November','December']"
      ],
      "metadata": {
        "id": "RqIYYBpL1WTk"
      },
      "execution_count": null,
      "outputs": []
    },
    {
      "cell_type": "markdown",
      "source": [
        "Now we will use a FOR loop to extract the name of 'every other month' starting with January:\n",
        "\n"
      ],
      "metadata": {
        "id": "6xNuBLbm1eK9"
      }
    },
    {
      "cell_type": "code",
      "source": [
        "for i in range(0,12,2):\n",
        "  print(months[i])\n",
        "  "
      ],
      "metadata": {
        "id": "pixXh1F21iPD"
      },
      "execution_count": null,
      "outputs": []
    },
    {
      "cell_type": "markdown",
      "source": [
        "Let us understand the syntax above. In the first line of the FOR loop, we have an iterator that starts at 0, ends at 11, with a step of 2. Then inside the loop, we use the iterator value to extract the relevant calendar month.\n",
        "\n",
        "> Why does it say `range(0,12)` but it actually goes from 0 to 11?\n",
        "\n",
        "\n"
      ],
      "metadata": {
        "id": "Br11t6Sj1pTq"
      }
    },
    {
      "cell_type": "markdown",
      "source": [
        "Let us do another where we start with December all the way down to January in steps of 3:\n",
        "\n"
      ],
      "metadata": {
        "id": "R1u70YgY10Lh"
      }
    },
    {
      "cell_type": "code",
      "source": [
        "for i in range(11,0,-3):\n",
        "  print(months[i])"
      ],
      "metadata": {
        "id": "f1JAYXOy2GdQ"
      },
      "execution_count": null,
      "outputs": []
    },
    {
      "cell_type": "markdown",
      "source": [
        "So to summarise FOR loops so far: we can use a FOR loop to repeat an operation. The iterator takes values during these repeats; and we can use the iterator inside the FOR loop to access elements of a variable.\n",
        "\n",
        "---\n",
        "\n",
        "## Using FOR loops to do maths\n",
        "\n",
        "Now let us perform actual mathematical operations inside FOR loops.\n",
        "A simple example is to write a FOR loop that calculates the sum of numbers from 1 to 100. First, how can we do this without FOR loops?\n",
        "\n",
        "A silly way would be to type out all of the numbers and add them up:\n",
        "\n",
        "\n"
      ],
      "metadata": {
        "id": "78nZZX5R2L6I"
      }
    },
    {
      "cell_type": "code",
      "source": [
        "  total_silly=1+2+3+4+5+6+7+8+9+10+11+12+13+14+15+16+17+18+19+20+21+22+23+24+25+26+27+28+29+30+31+32+33+34+35+36+37+38+39+40+41+42+43+44+45+46+47+48+49+50+51+52+53+54+55+56+57+58+59+60+61+62+63+64+65+66+67+68+69+70+71+72+73+74+75+76+77+78+79+80+81+82+83+84+85+86+87+88+89+90+91+92+93+94+95+96+97+98+99+100\n",
        "  print(total_silly)\n"
      ],
      "metadata": {
        "id": "jScOJXyC2QO-"
      },
      "execution_count": null,
      "outputs": []
    },
    {
      "cell_type": "markdown",
      "source": [
        "Let's see if we can do something better with a FOR loop. \n",
        "\n",
        "We start by defining a variable that will store the value of the summation. Let us call it `total`, and at the start initialize it to 0. Then within each iteration of the loop we increase this variable by the value of the iterator.\n",
        "\n",
        "Here is a 'pseudo' code for what we will be doing:\n",
        "\n",
        "1. Set the value of `total` to be equal to 0.\n",
        "2. Iterate over a variable `i` taking values from 1 to 100:\n",
        " - at each iteration, increase the value of `total` by `i`\n",
        " - store the result in the variable `total`\n",
        "3. End the iterations and display the variable `total`.\n",
        "\n",
        "And now for the actual code:\n"
      ],
      "metadata": {
        "id": "aK9xi1752kJy"
      }
    },
    {
      "cell_type": "code",
      "source": [
        "total = 0\n",
        "for i in range(1,101):\n",
        "  total = total + i\n",
        "print(total)"
      ],
      "metadata": {
        "id": "5ptpcbvq2q2h"
      },
      "execution_count": null,
      "outputs": []
    },
    {
      "cell_type": "markdown",
      "source": [
        "> Note: we need to use `range(1,101)` if we want `i` to reach 100"
      ],
      "metadata": {
        "id": "Dt_PIua63NQO"
      }
    },
    {
      "cell_type": "markdown",
      "source": [
        "Compare `total` to `total_silly`. Same output, but much more sensible code.\n",
        "\n",
        "\n",
        "> **Exercise** : Use a FOR loop to calculate the sum of all even numbers from 2 to 2022."
      ],
      "metadata": {
        "id": "Kc7kgLb83Uij"
      }
    },
    {
      "cell_type": "code",
      "source": [
        "# YOUR CODE HERE"
      ],
      "metadata": {
        "id": "UW2b9DO63cYm"
      },
      "execution_count": null,
      "outputs": []
    },
    {
      "cell_type": "code",
      "source": [
        "#@title Possible solution\n",
        "# We will use a FOR loop with an iterator that starts at 2 and ends at 2022 with steps of 2:\n",
        "total = 0\n",
        "for i in range(2,2023,2):\n",
        "  total = total + i\n",
        "print(total)\n",
        "\n",
        "# Another possible solution that uses numpy:\n",
        "from numpy import arange\n",
        "total = arange(2,2023,2).sum()\n",
        "print(total)"
      ],
      "metadata": {
        "id": "uwCAzDMu3kL6",
        "cellView": "form"
      },
      "execution_count": null,
      "outputs": []
    },
    {
      "cell_type": "markdown",
      "source": [
        "---\n",
        "\n",
        "Using an analogous approach, we will now write a program that calculates $N!$ (factorial of $N$, or $1\\times2\\times3\\times4\\times...\\timesN$) for an integer number $N$. Let's say for $N=10$.\n",
        "\n",
        "First let us assign a value for $N$:\n"
      ],
      "metadata": {
        "id": "_6w_wpE43_IY"
      }
    },
    {
      "cell_type": "code",
      "source": [
        "N = 10"
      ],
      "metadata": {
        "id": "bFN59X9T4Z6L"
      },
      "execution_count": null,
      "outputs": []
    },
    {
      "cell_type": "markdown",
      "source": [
        "Now we will write a for loop that calculates $N!$. For that, we first define a variable `F` and assign it the value 1, then we use a loop:\n",
        "\n"
      ],
      "metadata": {
        "id": "XopuY4bD4eHo"
      }
    },
    {
      "cell_type": "code",
      "source": [
        "F = 1\n",
        "for i in range(1,11):\n",
        "  F = F*i\n",
        "print(F)"
      ],
      "metadata": {
        "id": "lmqjR_ib4iwM"
      },
      "execution_count": null,
      "outputs": []
    },
    {
      "cell_type": "markdown",
      "source": [
        "In each iteration we multiply the current value of `F` with `i`, and assign that result to the variable `F`.\n",
        "\n",
        "Try with different values for $N$. You should see that the result grows very quickly as $N$ gets bigger and bigger.\n",
        "\n",
        "> **Excercise:** Calculate the value of $N!$ for all $N$ between 1 and 5 and make a plot of $N!$ as a function of $N$.\n"
      ],
      "metadata": {
        "id": "RrigUYp14oZV"
      }
    },
    {
      "cell_type": "code",
      "source": [
        "# YOUR CODE HERE"
      ],
      "metadata": {
        "id": "NJQGQsAa4yd5"
      },
      "execution_count": null,
      "outputs": []
    },
    {
      "cell_type": "code",
      "source": [
        "#@title Potential Solution\n",
        "\n",
        "# For this we need a DOUBLE FOR loop!\n",
        "\n",
        "# First, we create an empty list that will contain N! for all values of N between 1 and 5:\n",
        "N_factorial = []\n",
        "\n",
        "# Then we look over the values of N:\n",
        "for N in [1,2,3,4,5]:\n",
        "  # And we loop again to calculate the factioral. This is the loop we have before\n",
        "  F = 1\n",
        "  for i in range(1,N):\n",
        "    F = F*i\n",
        "  N_factorial.append(F)\n",
        "\n",
        "\n",
        "# And finally, we can plot the results:\n",
        "import matplotlib.pyplot as plt\n",
        "plt.plot([1,2,3,4,5], N_factorial)\n",
        "plt.xlabel('N')\n",
        "plt.ylabel('N!')\n",
        "plt.show()"
      ],
      "metadata": {
        "id": "lNDbBWFO47yN",
        "cellView": "form"
      },
      "execution_count": null,
      "outputs": []
    },
    {
      "cell_type": "markdown",
      "source": [
        "\n",
        "### Double FOR loops:\n",
        "\n",
        "A useful application of a double FOR loop is when we want to create a 2 dimensional array. For example, let's say we want to plot the function $f(x,y)=sin(x^2+y^2)$ for $x,y$ within the range $[-2\\pi/5,2\\pi/5]$ (which not?).\n",
        "\n",
        "First, we create an array for our range of values:\n",
        "\n",
        "\n",
        "\n"
      ],
      "metadata": {
        "id": "FAdm5_ctVYPY"
      }
    },
    {
      "cell_type": "code",
      "source": [
        "import numpy as  np\n",
        "values = np.linspace(-2*np.pi/5,2*np.pi/5,100)"
      ],
      "metadata": {
        "id": "i9RqtWG9WU2-"
      },
      "execution_count": null,
      "outputs": []
    },
    {
      "cell_type": "markdown",
      "source": [
        "Next, we create a variable for our output function and use a double FOR loop to fill it in. We use a double FOR loop, which means a loop inside a loop. Because the second loop is inside the first, all combinations of the indices `i` and `j` are used."
      ],
      "metadata": {
        "id": "r5lsnHfUWd8-"
      }
    },
    {
      "cell_type": "code",
      "source": [
        "f = np.zeros((len(values),len(values)))\n",
        "for i,x in enumerate(values):\n",
        "  for j,y in enumerate(values):\n",
        "    f[i,j] = np.sin( x**2 + y**2 )\n"
      ],
      "metadata": {
        "id": "WShFLJQNWnwB"
      },
      "execution_count": null,
      "outputs": []
    },
    {
      "cell_type": "markdown",
      "source": [
        "> **Note:** We used the Python method `enumerate` to get not only the values in `values` but also an index that we use to fill in array `f`. We can have instead just looped over indices and obtained `x[i]` and `y[j]` inside the loop code like this:"
      ],
      "metadata": {
        "id": "twByMKkOW32g"
      }
    },
    {
      "cell_type": "code",
      "source": [
        "f = np.zeros((len(values),len(values)))\n",
        "for i in range(100):\n",
        "  for j in range(100):\n",
        "    f[i,j] = np.sin( values[i]**2 + values[j]**2 )"
      ],
      "metadata": {
        "id": "TGYLnhVVXdpm"
      },
      "execution_count": null,
      "outputs": []
    },
    {
      "cell_type": "markdown",
      "source": [
        "You can check that the two variants produce the same results.\n",
        "\n",
        "Now we can use `Matplotlib` to visualise the results, but I think it looks prettier with `Plotly`:"
      ],
      "metadata": {
        "id": "9tR59Iu2XjMb"
      }
    },
    {
      "cell_type": "code",
      "source": [
        "import plotly.graph_objects as go\n",
        "\n",
        "fig = go.Figure(data=[go.Surface(x=values, y=values,z=f)])\n",
        "fig.update_layout(title='f(x,y)=sin(x^2+y^2)', autosize=False,\n",
        "                  width=500, height=500,\n",
        "                  margin=dict(l=65, r=50, b=65, t=90))\n",
        "fig.show()"
      ],
      "metadata": {
        "id": "3j3gB4dPX8BJ"
      },
      "execution_count": null,
      "outputs": []
    },
    {
      "cell_type": "markdown",
      "source": [
        "---\n",
        "#2. IF Statements\n",
        "\n",
        "\n",
        "A useful thing to be able to do when programming is to ask a question with YES/NO answer and do something that depends on what the answer is. For example, inside a FOR loop, only execute a command if some statement is true, or exit the loop immediately if some statement is true.\n",
        "\n",
        "Let's go back to the example we have seen above where we printed the name of every other calendar month. First define a variable with month names again:\n",
        "\n"
      ],
      "metadata": {
        "id": "WR_V97p3X-i6"
      }
    },
    {
      "cell_type": "code",
      "source": [
        "months = ['January','February','March','April','May','June','July','August','September','October','November','December']"
      ],
      "metadata": {
        "id": "mChtqtCN1-v3"
      },
      "execution_count": null,
      "outputs": []
    },
    {
      "cell_type": "markdown",
      "source": [
        "Now we will create a loop that only displays the name of every other month, but where the iterator actually goes through all the numbers from 0 to 11 (rather than skip every other number). We include an IF statement that asks whether the iterator is even or odd:\n",
        "\n"
      ],
      "metadata": {
        "id": "doksEDwU2fZd"
      }
    },
    {
      "cell_type": "code",
      "source": [
        "for i in range(0,12):\n",
        "  if np.remainder(i,2) == 0:\n",
        "    print(months[i])"
      ],
      "metadata": {
        "id": "716-DbiI2iPX"
      },
      "execution_count": null,
      "outputs": []
    },
    {
      "cell_type": "markdown",
      "source": [
        "Let's try to understand the above commands. Firstly, we have an IF statement that begins a new code identation (just like the FOR loop does). After the keyword `if`, we ask the question. In this particular case, we ask whether the iterator i is even or odd. We do this using the command `np.remainder`. What does this do?\n",
        "\n",
        "The command `np.remainder(x,y)` gives the remainder of dividing x by y (type `np.remainder?` for help). Therefore, when we write `np.remainder(i,2)`, we calculate the remainder of dividing `i` by `2`. If you remember your high school maths, this should be equal to 0 for even numbers and to 1 for odd numbers.\n",
        "\n",
        "So anything inside the IF statement will be executed if `np.remainder(i,2)` is equal to 0, or else the FOR loop carries on.\n",
        "\n",
        "---\n",
        "You can also have an alternative command you can run if the statement inside the IF is false. This can be done with the commands `if...else`\n",
        "\n",
        "Let's do a fun example by finding which months have an \"R\" in them:\n",
        "\n",
        "\n",
        "\n"
      ],
      "metadata": {
        "id": "Zyyd9PTr2zuX"
      }
    },
    {
      "cell_type": "code",
      "source": [
        "for i in range(12):\n",
        "  if 'R' in months[i].upper():\n",
        "    print(months[i],' has an R in it')\n",
        "  else:\n",
        "    print(months[i],' does not have an R in it')"
      ],
      "metadata": {
        "id": "h4Awtvbh3mgq"
      },
      "execution_count": null,
      "outputs": []
    },
    {
      "cell_type": "markdown",
      "source": [
        "> **Note:** We used `string.upper()` to turn a string into capital letters, so that the code works for both lower case and upper case R. \n",
        "\n",
        "> **Exercise:** Can you write a FOR loop with an IF/ELSE statements which writes out which months start with a vowel and which don't?"
      ],
      "metadata": {
        "id": "EclI7Vw14QZf"
      }
    },
    {
      "cell_type": "code",
      "source": [
        "#@title Possible Solution\n",
        "\n",
        "# Begin by defining the vowels\n",
        "vowels = 'AEIOUY'\n",
        "\n",
        "# For loop\n",
        "for i in range(12):\n",
        "  # get the starting letter\n",
        "  start_letter = months[i][0]\n",
        "  # ask if it is vowels\n",
        "  if start_letter in vowels:\n",
        "    print(months[i],' starts with a vowel')\n",
        "  else:\n",
        "    print(months[i],' does not start with a vowel')\n"
      ],
      "metadata": {
        "cellView": "form",
        "id": "dLCV7aa03-ZY"
      },
      "execution_count": null,
      "outputs": []
    },
    {
      "cell_type": "markdown",
      "source": [
        "Excellent, now you know what a FOR loop is, and you know how to use an IF statement inside a FOR loop. Let us use these two pieces of knowledge to do something more complicated.\n",
        "\n",
        "---\n",
        "\n"
      ],
      "metadata": {
        "id": "-p3hxtxs5UPX"
      }
    },
    {
      "cell_type": "markdown",
      "source": [
        "#3. Something more complicated\n",
        "\n",
        "Here we use FOR loops and IF statements to model the growth of a population of cells. We will consider a model where we start with a given number of cells, we know the birth-rate and the death-rate, and we try to see what happens to the number of cells over time.\n",
        "\n",
        "To add IF statements, we will consider a rather biologically suspicious variation on the model. But first, let us play with the simple birth/death rate model.\n",
        "\n",
        "We begin by creating a variable `n0` (starting number of cells), and two rate variables `b` and `d` (respectively birth and death rates). We set these to some arbitrary values:\n",
        "\n",
        "\n",
        "\n",
        "\n"
      ],
      "metadata": {
        "id": "qE6GLXnP5bpc"
      }
    },
    {
      "cell_type": "code",
      "source": [
        "n0 = 100\n",
        "b  = 0.01\n",
        "d  = 0.05"
      ],
      "metadata": {
        "id": "AtNtGXpl5jW-"
      },
      "execution_count": null,
      "outputs": []
    },
    {
      "cell_type": "markdown",
      "source": [
        "Now we write a loop that calculates the number of cells over time. Say at time `t=0h`, the number of cells is `n0`, and we simulate until `t=5000h`:\n",
        "\n"
      ],
      "metadata": {
        "id": "pzuKCae951Ye"
      }
    },
    {
      "cell_type": "code",
      "source": [
        "n = np.zeros(5000);\n",
        "\n",
        "for t in range(5000):\n",
        "  if t==0:\n",
        "    n[t] = n0\n",
        "  else:\n",
        "    n[t] = n[t-1] + b*n[t-1] - d*n[t-1]\n",
        "    "
      ],
      "metadata": {
        "id": "BDX2e6sV59oJ"
      },
      "execution_count": null,
      "outputs": []
    },
    {
      "cell_type": "markdown",
      "source": [
        "What have we done? \n",
        "\n",
        "In our FOR loop, we ask if `t` is equal to 0, in which case we set the number of cells to be equal to `n0` (our starting value). Otherwise, we set our number to be equal to the previous number, plus the newborn cells, minus the dead cells. We use our rate variables and multiply them by the previous number of cells to get the birth/death in cells.\n",
        "\n",
        "Now let us plot the results:\n",
        "\n"
      ],
      "metadata": {
        "id": "XNNBUT0a6SSc"
      }
    },
    {
      "cell_type": "code",
      "source": [
        "plt.plot(n)\n",
        "plt.show()"
      ],
      "metadata": {
        "id": "_zhD-NYe6e50"
      },
      "execution_count": null,
      "outputs": []
    },
    {
      "cell_type": "markdown",
      "source": [
        "It is clear that the number of cells dies out exponentially (because the death rate is larger than the birth rate).\n",
        "\n",
        "This is rather boring. So we will add some new rules to make the dynamics more interesting (and also to introduce some more IF statements).\n",
        "\n",
        "Here are our two new rules:\n",
        "\n",
        "- If the number of cells drops below 100, we double the birth rate and halve the death rate.\n",
        "- If the number of cells grows above 1 million, we double the death rate and halve the birth rate.\n",
        "\n",
        "These rules may sound a bit arbitrary, and indeed they are. But you can see what we are doing here. If there are too many cells, make them die faster and proliferate more slowly (perhaps due to shortage of nutrients), and vice versa if there are not that many cells.\n",
        "\n",
        "It is easy to code these two new rules with two new FOR loops. See code below and make sure you understand it. \n"
      ],
      "metadata": {
        "id": "1HqAzDzm6iSq"
      }
    },
    {
      "cell_type": "code",
      "source": [
        "\n",
        "n = np.zeros(5000)\n",
        "\n",
        "for t in range(5000):\n",
        "  \n",
        "  if t == 0:\n",
        "    n[t] = n0\n",
        "  else: \n",
        "    n[t] = n[t-1] + b*n[t-1] - d*n[t-1]\n",
        "\n",
        "  # new rules:\n",
        "  if n[t]>1e6:\n",
        "    d,b = d*2,b/2\n",
        "  if n[t]<1e2:\n",
        "    d,b = d/2,b*2\n"
      ],
      "metadata": {
        "id": "wOEzym5v6mK-"
      },
      "execution_count": null,
      "outputs": []
    },
    {
      "cell_type": "markdown",
      "source": [
        "If you plot the results, you should be able to see a funky dynamic to the cell number, a bit aperiodic:\n",
        "\n"
      ],
      "metadata": {
        "id": "C6JG1zUn7YJ_"
      }
    },
    {
      "cell_type": "code",
      "source": [
        "plt.plot(n)\n",
        "plt.xlabel('time (h)')\n",
        "plt.ylabel('number of cells')\n",
        "plt.show()"
      ],
      "metadata": {
        "id": "RddsbLGP7aIT"
      },
      "execution_count": null,
      "outputs": []
    },
    {
      "cell_type": "markdown",
      "source": [
        "---\n",
        "#4. Something even more complicated\n",
        "\n",
        "Now we are going to try to solve an actual problem using FOR loops and IF statements.\n",
        "\n",
        "The problem is the following:\n",
        "\n",
        "> Find the values of $x$ between -π and π where $sin(x^2)+tan(x/10)-\\frac{1}{2}$ is zero\n",
        "\n",
        "If we plot this function you can see that it crosses the horizontal zero line (y=0) a few times:\n",
        "\n",
        "    "
      ],
      "metadata": {
        "id": "FTrWWsFZ7b5f"
      }
    },
    {
      "cell_type": "code",
      "source": [
        "x = np.linspace(-np.pi,np.pi,10000)\n",
        "y = np.sin(x**2) + np.tan(x/10)-1/2\n",
        "\n",
        "plt.plot(x,y)\n",
        "plt.grid()\n",
        "plt.show()\n",
        "\n"
      ],
      "metadata": {
        "id": "Z8aH4yUJ7yD4"
      },
      "execution_count": null,
      "outputs": []
    },
    {
      "cell_type": "markdown",
      "source": [
        "Let us start by defining our function "
      ],
      "metadata": {
        "id": "FzJrBYBQ8C4Y"
      }
    },
    {
      "cell_type": "code",
      "source": [
        "def f(x):\n",
        "  return np.sin(x**2) + np.tan(x/10)-1/2"
      ],
      "metadata": {
        "id": "AnM2Ho4IALeA"
      },
      "execution_count": null,
      "outputs": []
    },
    {
      "cell_type": "markdown",
      "source": [
        "Then we write a loop over the values of x, where we calculate the value of the function `f(x)` and check whether it has changed from a positive to a negative value or vice versa. If it has done so, then it must have passed through zero (unless the function jiggles about very rapidly, which it doesn't):\n",
        "\n"
      ],
      "metadata": {
        "id": "bDTDl3IlANsH"
      }
    },
    {
      "cell_type": "code",
      "source": [
        "v = [] # we will use this list to store the values of x at which the function crosses zero\n",
        "\n",
        "# note we start the loop at x[1] instead of x[0]\n",
        "for i in range(1,len(x)):\n",
        "  y1 = f(x[i-1])\n",
        "  y2 = f(x[i])\n",
        "\n",
        "  if np.sign(y1*y2)<0:\n",
        "    v.append( (x[i-1]+x[i])/2 )\n",
        "  "
      ],
      "metadata": {
        "id": "ungPINLJAWq0"
      },
      "execution_count": null,
      "outputs": []
    },
    {
      "cell_type": "markdown",
      "source": [
        "Well, that is a lot of new commands! Let's start from the top:\n",
        "\n",
        "We started with `v=[]`. This is an empty list that is going to store the values of `x` for which `f(x)` is zero. \n",
        "\n",
        "Then we loop, starting at `i=1` (can you see why?)\n",
        "\n",
        "We calculate the value of `f(x)` at the current and previous position. We call these `y2` and `y1` respectively.\n",
        "\n",
        "We calculate the sign of their product. This sign will only be negative if one of them is negative and the other positive (doesn't matter which). This means we have crossed zero!\n",
        "\n",
        "We then calculate the value of `x` for which the crossing happens. We approximate this with the middle point between the current and previous `x` position. This is an approximation of course, and can get better if `x` has a much higher 'resolution'.\n",
        "\n",
        "We append this value to the vector v and carry on till the end of the loop.\n",
        "\n",
        "Now let's plot the function and the values at which it crosses zero:"
      ],
      "metadata": {
        "id": "M5L088jGBmBt"
      }
    },
    {
      "cell_type": "code",
      "source": [
        "plt.plot(x,f(x))\n",
        "plt.plot(v,np.zeros(len(v)),'ro')\n",
        "plt.grid()\n",
        "plt.show()"
      ],
      "metadata": {
        "id": "QPuv2YPmCDc0"
      },
      "execution_count": null,
      "outputs": []
    },
    {
      "cell_type": "markdown",
      "source": [
        "Success!\n",
        "\n",
        "#The end.\n"
      ],
      "metadata": {
        "id": "mITciBFKCH7U"
      }
    }
  ]
}