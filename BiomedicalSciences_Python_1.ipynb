{
  "nbformat": 4,
  "nbformat_minor": 0,
  "metadata": {
    "colab": {
      "provenance": [],
      "collapsed_sections": [],
      "toc_visible": true,
      "authorship_tag": "ABX9TyPaukPBluqRy30+EZeVi6WL",
      "include_colab_link": true
    },
    "kernelspec": {
      "name": "python3",
      "display_name": "Python 3"
    },
    "language_info": {
      "name": "python"
    }
  },
  "cells": [
    {
      "cell_type": "markdown",
      "metadata": {
        "id": "view-in-github",
        "colab_type": "text"
      },
      "source": [
        "<a href=\"https://colab.research.google.com/github/sjbabdi/BiomedicalSciences/blob/main/BiomedicalSciences_Python_1.ipynb\" target=\"_parent\"><img src=\"https://colab.research.google.com/assets/colab-badge.svg\" alt=\"Open In Colab\"/></a>"
      ]
    },
    {
      "cell_type": "markdown",
      "source": [
        "# BIOMEDICAL SCIENCES - Python practicals 1: Plotting\n",
        "\n",
        "---\n",
        "\n",
        "\n",
        "# Creating simple plots\n",
        "\n",
        "The goal of this practical is to learn how to create plots or figures in python. Good data visualisation is extremely important; it can help us better understand the data, and also helps us in communicating with others.\n",
        "\n",
        "We will use a Python library called [Matplotlib](https://matplotlib.org/). It is a very flexible and powerful library. Have a look at their [gallery](https://matplotlib.org/stable/gallery/index.html) to get a feel for the many different types of visualisations that are possible with Matplotlib. At the end of the practical, we will also have a brief play with two other plotting libraries."
      ],
      "metadata": {
        "id": "1Smc2cIlmlDL"
      }
    },
    {
      "cell_type": "code",
      "source": [
        "# We start with the standard imports\n",
        "import matplotlib.pyplot as plt\n",
        "import numpy as np\n",
        "\n",
        "# Let us plot a sine function\n",
        "\n",
        "# define a vector with 100 entries between -pi and pi\n",
        "x = np.linspace(-np.pi,np.pi,100)\n",
        "# take the sine of x\n",
        "y = np.sin(x)\n",
        "# plot sine(x) against x\n",
        "plt.plot(x,y)\n",
        "# actually show the plot\n",
        "plt.show()\n"
      ],
      "metadata": {
        "id": "HeyPaIKymo4N"
      },
      "execution_count": null,
      "outputs": []
    },
    {
      "cell_type": "markdown",
      "source": [
        "If you know Matlab, the syntax should look quite familiar so far.\n",
        "\n",
        "Next, we will change a few things in the plot. We will add labels to our two axes (always label your axes!), a title, and a grid. We will also change the width of the line and its colour.\n",
        "\n",
        "We will do this in two ways, one which is similar to the Matlab way, and one which is more \"Object oriented\". The first is convenient\n",
        "if you already know matlab, or if you don't want to type too much code. \n",
        "The second is somewhat more flexible, although this may not be apparent in this simple example."
      ],
      "metadata": {
        "id": "adMZ7XShYOqy"
      }
    },
    {
      "cell_type": "code",
      "source": [
        "# The Matlab way\n",
        "plt.plot(x,y,linewidth=3,color='black')\n",
        "plt.xlabel('x')\n",
        "plt.ylabel('sin(x)')\n",
        "plt.title('y=sin(x) - Matlab way')\n",
        "plt.grid()\n",
        "plt.show()\n",
        "\n",
        "# The Object-oriented way\n",
        "# Here, fig and axes are \"Objects\" returned by the \"subplot\" function\n",
        "# we set the properties of the axes object using the \"set\" function\n",
        "fig, axes = plt.subplots()\n",
        "lines = axes.plot(x,y)\n",
        "axes.set(xlabel='x',ylabel='sin(x)',title='y=sin(x) - Object oriented way')\n",
        "axes.grid()\n",
        "# \"lines\" is a list of objects returned by \"plot\". Here, it only contains\n",
        "# one line which we access using lines[0]\n",
        "lines[0].set(color='black',linewidth=3)\n",
        "plt.show()\n"
      ],
      "metadata": {
        "id": "-odUcUDy-Vpb"
      },
      "execution_count": null,
      "outputs": []
    },
    {
      "cell_type": "markdown",
      "source": [
        "As you can see, the plots are identical. Now please attempt the below exercise. Make use of the help documentation (e.g. `plt.plot?`) to find out how it works. Don't look at the proposed solution until you have had a go yourself."
      ],
      "metadata": {
        "id": "Rd4XT49xf4at"
      }
    },
    {
      "cell_type": "markdown",
      "source": [
        "> **Exercise:** Modify the above plot in the following ways: \n",
        " - Make the line red\n",
        " - Make the text bigger in the title and labels\n",
        " - Add another line (in blue) showing the cosine of x\n",
        " - Add a legend for the two lines\n",
        "\n",
        "> **Note: Don't hesitate to use Google to learn the syntax**"
      ],
      "metadata": {
        "id": "5geo0YI9Zc05"
      }
    },
    {
      "cell_type": "code",
      "source": [
        "# YOUR CODE HERE"
      ],
      "metadata": {
        "id": "EOi-sk7S-mQi"
      },
      "execution_count": 3,
      "outputs": []
    },
    {
      "cell_type": "code",
      "source": [
        "#@title Possible Solution\n",
        "\n",
        "# plotting the sine and cosine\n",
        "# note the addition of the \"label\" property\n",
        "# this will be used by the \"legend\" function later on\n",
        "plt.plot(x,np.sin(x),linewidth=3,color='red',label='sin(x)')\n",
        "plt.plot(x,np.cos(x),linewidth=3,color='blue',label='cos(x)')\n",
        "# label the axes\n",
        "plt.xlabel('x',fontsize=20)\n",
        "plt.ylabel('y',fontsize=20)\n",
        "# the legend function will look at the labels from the plot function\n",
        "plt.legend()\n",
        "# add a title as before\n",
        "plt.title('sine/cosine',fontsize=20)\n",
        "# add a grid \n",
        "plt.grid()\n"
      ],
      "metadata": {
        "cellView": "form",
        "id": "mOy1bh0b-osz"
      },
      "execution_count": null,
      "outputs": []
    },
    {
      "cell_type": "markdown",
      "source": [
        "# Plotting real data\n",
        "\n",
        "We now turn to plotting real world data, which will also give us the opportunity to play with different types of plots.\n",
        "\n",
        "I like to use Oxford weather data, which I originally found here: http://www.metoffice.gov.uk. Below we download a textfile of a cleaned up version of that data.\n",
        "\n",
        "We will use [pandas](https://pandas.pydata.org), a very powerful library for analysing tabular data. But here we only use it to load the table. More on `pandas` in the 4th session (Data Analysis).\n",
        "\n",
        "\n"
      ],
      "metadata": {
        "id": "LJHXhd9efXtn"
      }
    },
    {
      "cell_type": "code",
      "source": [
        "import pandas as pd\n",
        "\n",
        "table = pd.read_csv('https://raw.githubusercontent.com/sjbabdi/BiomedicalSciences/main/data/OxfordWeather.csv')\n",
        "# peek at the table\n",
        "table"
      ],
      "metadata": {
        "id": "vdrROreCfZC9"
      },
      "execution_count": null,
      "outputs": []
    },
    {
      "cell_type": "markdown",
      "source": [
        "\n",
        "\n",
        "## Scatter plots\n",
        "\n",
        "Let us begin with a plot of temperature against month of the year. We will take the average of the min and max tempratures as our measure of temperature."
      ],
      "metadata": {
        "id": "f6SgOYnCwlGE"
      }
    },
    {
      "cell_type": "code",
      "source": [
        "# average of min and max temp\n",
        "temperature = (table['Maximum Temperature'] + table['Minimum Temperature'])/2\n",
        "# months are labelled from 1 to 12 \n",
        "month       = table['Month']\n",
        "\n",
        "# Prepare the plot\n",
        "# note the 'o' means each data point (which corresponds to a given year and a given month) \n",
        "# is plotted in isolation. If we don't have that\n",
        "# the data will be plotted as a line and will look rather messy\n",
        "plt.plot(month,temperature,'o')\n",
        "plt.xlabel('month')\n",
        "plt.ylabel('temperature (C)')\n",
        "plt.grid()\n",
        "plt.show()"
      ],
      "metadata": {
        "id": "pV39DZN1xwjM"
      },
      "execution_count": null,
      "outputs": []
    },
    {
      "cell_type": "markdown",
      "source": [
        "The inverted U shape should not surprise you. It would be easier to understand this plot if the x-axis was labelled using names of the month. For this we can use `plt.xticks`."
      ],
      "metadata": {
        "id": "5jkY5oU0hxuD"
      }
    },
    {
      "cell_type": "code",
      "source": [
        "# Display names of the month on the x-axis\n",
        "\n",
        "month_names = ['Jan','Feb','Mar','Apr','May','Jun','Jul','Aug','Sep','Oct','Nov','Dec']\n",
        "\n",
        "plt.plot(month,temperature,'o')\n",
        "plt.xlabel('month')\n",
        "plt.ylabel('temperature (C)')\n",
        "plt.xticks(np.arange(1,13), month_names)\n",
        "plt.grid()\n",
        "plt.show()"
      ],
      "metadata": {
        "id": "zlXFGL9EzFqV"
      },
      "execution_count": null,
      "outputs": []
    },
    {
      "cell_type": "markdown",
      "source": [
        "It would be convenient to be able to directly read out, from the figure, the average temperature for each month. But it is hard to do now as the data points are all on top of one another."
      ],
      "metadata": {
        "id": "wHfmK6wrjCn-"
      }
    },
    {
      "cell_type": "markdown",
      "source": [
        "> **Exercise**: Add the average temperature for each month to the plot, as a larger red point."
      ],
      "metadata": {
        "id": "OpfZuLLHifQB"
      }
    },
    {
      "cell_type": "code",
      "source": [
        "# YOUR CODE HERE"
      ],
      "metadata": {
        "id": "aNsCpA3RWk4o"
      },
      "execution_count": 123,
      "outputs": []
    },
    {
      "cell_type": "code",
      "source": [
        "#@title Possible solution\n",
        "# Create a list of average temperatures\n",
        "avg_temp = [] # empty list for now\n",
        "for m in np.arange(1,13):\n",
        "  # only average over the same month\n",
        "  avg_temp.append( np.mean(temperature[month==m]) )\n",
        "\n",
        "# Note: a compact way to do the above in python uses list-comprehensions:\n",
        "avg_temp = [ np.mean(temperature[month==m]) for m in np.arange(1,13) ]\n",
        "\n",
        "# Now do the plotting\n",
        "plt.plot(month,temperature,'o',markersize=2)\n",
        "plt.plot(np.arange(1,13),avg_temp,'o',color='r',markersize=10)\n",
        "plt.xlabel('month')\n",
        "plt.ylabel('temperature (C)')\n",
        "plt.xticks(np.arange(1,13), month_names)\n",
        "plt.grid()\n",
        "plt.show()\n"
      ],
      "metadata": {
        "cellView": "form",
        "id": "-jS04Y10jZ-5"
      },
      "execution_count": null,
      "outputs": []
    },
    {
      "cell_type": "markdown",
      "source": [
        "\n",
        "## Line plots\n",
        "Next, we will look at rainfall. Let us plot the yearly rainfall in the years 2010 and 2011. \n",
        "\n"
      ],
      "metadata": {
        "id": "sxSLvPgGlVym"
      }
    },
    {
      "cell_type": "code",
      "source": [
        "# First we extract the data from the table\n",
        "years     = table['Year']\n",
        "rain_2010 = table['Rainfall'][years==2010]\n",
        "rain_2011 = table['Rainfall'][years==2011]\n",
        "\n",
        "# Now we prepare the plot\n",
        "# Notice how I can use month_names directly for the xaxis\n",
        "# So no need to use plt.xticks\n",
        "plt.plot(month_names,rain_2010,'o-', label='2010')\n",
        "plt.plot(month_names,rain_2011,'o-', label='2011')\n",
        "# I can decide where to put the legend\n",
        "plt.legend(loc = 'upper left') \n",
        "# Always label the axes (although the xaxis is self-evident)\n",
        "plt.ylabel('Rainfall (mm)')\n",
        "plt.show()\n"
      ],
      "metadata": {
        "id": "wjdF2NddzRpC"
      },
      "execution_count": null,
      "outputs": []
    },
    {
      "cell_type": "markdown",
      "source": [
        "I remember August 2010. It was not fun...\n",
        "\n",
        "\n",
        "## Boxplots\n",
        "\n",
        "Now we want to combine the rainfall data across all the years we have in the table so see if there is a pattern across the year. Does it tend to rain more in the Autumn, for example? \n",
        "\n",
        "For this, we will use another type of plot called a `boxplot`, which combines information such as the median, the spread of the data, and the outliers (fliers):\n",
        "\n",
        "\n",
        "![](https://github.com/sjbabdi/BiomedicalSciences/blob/main/data/boxplot.png?raw=1)\n"
      ],
      "metadata": {
        "id": "Y1s932VW2IUr"
      }
    },
    {
      "cell_type": "code",
      "source": [
        "# prepare the data\n",
        "# we need a list of rainfall data, one per month\n",
        "# let's use a compact list-comprehension for this\n",
        "# we could also have used a loop instead\n",
        "data = [ table['Rainfall'][table['Month'] == m] for m in  np.arange(1,13)]\n",
        "\n",
        "# prepare the boxplot\n",
        "# to make the figure larger, I can control the size with this command\n",
        "plt.figure( figsize=(8,8))\n",
        "plt.boxplot(data, labels=month_names)\n",
        "plt.ylabel('Rainfall (mm)')\n",
        "plt.show()\n"
      ],
      "metadata": {
        "id": "2nAcZjt92sJM"
      },
      "execution_count": null,
      "outputs": []
    },
    {
      "cell_type": "markdown",
      "source": [
        "What can we conclude from this? I guess Febreuary seems to have the lowest rainfall, but over all it seems to rain pretty much the same amount all year...\n",
        "\n",
        "> **Exercise**: Change the colours and widths of the components of the boxplot to make it look nicer. Look up the `plt.boxplot` documentation to find help. A proposed solution is shown below.\n"
      ],
      "metadata": {
        "id": "c-hTdNu05Fs8"
      }
    },
    {
      "cell_type": "code",
      "source": [
        "# YOUR CODE HERE"
      ],
      "metadata": {
        "id": "Ib6gE3b-XNd_"
      },
      "execution_count": 124,
      "outputs": []
    },
    {
      "cell_type": "code",
      "source": [
        "#@title Possible solution\n",
        "\n",
        "# get the output of boxplot as a variable so we can modify it later\n",
        "bp = plt.boxplot( data, labels=month_names, patch_artist=True, notch=True)\n",
        "\n",
        "# change the colours of the medians (horizontal lines in the middle)\n",
        "for m in bp['medians']:\n",
        "  m.set( color='black', linewidth=3)\n",
        "\n",
        "for w in bp['whiskers']:\n",
        "  w.set( color='red', linewidth=1)\n",
        "\n",
        "for b in bp['boxes']:\n",
        "  b.set_facecolor('blue')\n",
        "  b.set_alpha(.2) # sets the transparency\n",
        "plt.grid()\n",
        "plt.ylabel('Rainfall (mm)')\n",
        "plt.show()"
      ],
      "metadata": {
        "cellView": "form",
        "id": "3-kWXx7Q3kPr"
      },
      "execution_count": null,
      "outputs": []
    },
    {
      "cell_type": "markdown",
      "source": [
        "\n",
        "## Heatmaps\n",
        "\n",
        "Next, we will look at all the columns of our table (excluding year and month), and quantify the correlation between the columns (i.e. how related they are).  Which variables do you expect to find to be highly correlated? Make a note of your guess before proceeding with the plotting."
      ],
      "metadata": {
        "id": "cd9S_DBV-KmX"
      }
    },
    {
      "cell_type": "code",
      "source": [
        "# First we create another table that excludes the first two columns:\n",
        "\n",
        "variables      = table.to_numpy()[:,2:]\n",
        "variable_names = list(table.columns[2:])\n",
        "\n",
        "# Next, calculate the correlation matrix\n",
        "corr = np.corrcoef(variables.T)\n",
        "\n",
        "# Now we can show this matrix as a heat map\n",
        "plt.imshow(corr)\n",
        "plt.show()"
      ],
      "metadata": {
        "id": "qNneJoQ64UqQ"
      },
      "execution_count": null,
      "outputs": []
    },
    {
      "cell_type": "markdown",
      "source": [
        "This matrix shows the correlation between every pair of variables. To make sense of it, we need to add variable names in the x and y axes, a colourbar, and maybe even annotate the plot to show the numerical values inside the matrix:"
      ],
      "metadata": {
        "id": "oAlCWpgL_eIg"
      }
    },
    {
      "cell_type": "code",
      "source": [
        "\n",
        "fig, ax = plt.subplots(figsize=(8,8))\n",
        "im = plt.imshow(corr)\n",
        "\n",
        "# Show all ticks and label them with the respective list entries\n",
        "plt.xticks(np.arange(len(variable_names)), variable_names)\n",
        "plt.yticks(np.arange(len(variable_names)), variable_names)\n",
        "\n",
        "# Rotate the tick labels and set their alignment.\n",
        "plt.setp(ax.get_xticklabels(), rotation=45, ha=\"right\", rotation_mode=\"anchor\")\n",
        "\n",
        "# Loop over data dimensions and create text annotations.\n",
        "for i in range(len(variable_names)):\n",
        "    for j in range(len(variable_names)):\n",
        "        text = plt.text(j, i, np.around(corr[i, j],decimals=2),ha=\"center\", va=\"center\", color=\"red\")\n",
        "\n",
        "# add a colourbar\n",
        "plt.colorbar(label='correlation coefficient')\n",
        "plt.show()\n"
      ],
      "metadata": {
        "id": "lzw3ki1Ulsta"
      },
      "execution_count": null,
      "outputs": []
    },
    {
      "cell_type": "markdown",
      "source": [
        "Look at the values in the plot. Do they correspond to your guess?\n",
        "\n",
        "As an aside, you will notice that we have used quite a bit of code to create this plot. There is a very good Python library called [seaborn](https://seaborn.pydata.org) which makes creating this type of figures much easier and interacts nicely with `pandas`. So here is how to generate the same type of plot with `seaborn`:\n",
        "\n",
        "\n"
      ],
      "metadata": {
        "id": "zNhHPfmeCHZh"
      }
    },
    {
      "cell_type": "code",
      "source": [
        "import seaborn\n",
        "\n",
        "seaborn.heatmap(table.iloc()[:,2:].corr(),annot=True)\n",
        "plt.show()"
      ],
      "metadata": {
        "id": "-2Chv6-O727l"
      },
      "execution_count": null,
      "outputs": []
    },
    {
      "cell_type": "markdown",
      "source": [
        "## Interactive plots\n",
        "\n",
        "We will finish with an example of interactive plotting. Interactive means that you will be able to zoom in and out, hover over the plot and get more information about the data. It is extremely useful, and also very easy to do with modern Python libraries. \n",
        "\n",
        "One of the most popular interactive plotting libraries is [Plotly](https://plotly.com/python). We use it below to create an interactive version of an earlier scatter plot we created. This time, you will be able to hover over the data to get more information.\n",
        "\n",
        "Run the code below, make sure you understand it, and then interact with the figure. Feel free to play around with the `scatter` function to change the plot.\n"
      ],
      "metadata": {
        "id": "6ZIFM0enD9ZX"
      }
    },
    {
      "cell_type": "code",
      "source": [
        "import plotly.express as px\n",
        "\n",
        "# Let's add a column to our table with actual month names\n",
        "table['Month names'] = [ month_names[m-1] for m in table['Month']]\n",
        "\n",
        "# In one call to the scatter function, look how many things we can set\n",
        "px.scatter( table, x='Month names', y='Maximum Temperature', hover_data=['Year'], size='Rainfall', color='Air frost' )\n"
      ],
      "metadata": {
        "id": "tBN9xNBCATxs"
      },
      "execution_count": null,
      "outputs": []
    },
    {
      "cell_type": "markdown",
      "source": [
        "#The End."
      ],
      "metadata": {
        "id": "_5-_qf1BBBr2"
      }
    }
  ]
}